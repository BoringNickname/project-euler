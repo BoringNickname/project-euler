{
 "cells": [
  {
   "cell_type": "code",
   "execution_count": 55,
   "metadata": {},
   "outputs": [
    {
     "data": {
      "text/plain": [
       "162"
      ]
     },
     "execution_count": 55,
     "metadata": {},
     "output_type": "execute_result"
    }
   ],
   "source": [
    "words = []\n",
    "with open('words1.txt','r') as f:\n",
    "    for line in f:\n",
    "        for word in line.split():\n",
    "            words.append(word)\n",
    "\n",
    "import string\n",
    "values = dict()\n",
    "for index, letter in enumerate(string.ascii_uppercase):\n",
    "    values[letter] = index + 1\n",
    "    \n",
    "def value(a):\n",
    "    i = 0\n",
    "    sums = 0 \n",
    "    while i < len(a):\n",
    "        sums += values[a[i]]\n",
    "        i += 1\n",
    "    return sums\n",
    "\n",
    "tr = []\n",
    "i = 1\n",
    "while i < 50:\n",
    "    tr.append(0.5*i*(i+1))\n",
    "    i += 1\n",
    "    \n",
    "i = 0\n",
    "bingo = 0\n",
    "while i < len(words):\n",
    "    if value(list(words[i])) in tr:\n",
    "        bingo += 1\n",
    "    i += 1\n",
    "bingo"
   ]
  },
  {
   "cell_type": "code",
   "execution_count": null,
   "metadata": {},
   "outputs": [],
   "source": []
  }
 ],
 "metadata": {
  "kernelspec": {
   "display_name": "Python 3",
   "language": "python",
   "name": "python3"
  },
  "language_info": {
   "codemirror_mode": {
    "name": "ipython",
    "version": 3
   },
   "file_extension": ".py",
   "mimetype": "text/x-python",
   "name": "python",
   "nbconvert_exporter": "python",
   "pygments_lexer": "ipython3",
   "version": "3.4.9"
  }
 },
 "nbformat": 4,
 "nbformat_minor": 2
}
