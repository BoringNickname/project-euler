{
 "cells": [
  {
   "cell_type": "code",
   "execution_count": 133,
   "metadata": {},
   "outputs": [],
   "source": [
    "from collections import deque\n",
    "from sympy.ntheory import isprime"
   ]
  },
  {
   "cell_type": "code",
   "execution_count": 150,
   "metadata": {},
   "outputs": [],
   "source": [
    "def rotations(x):\n",
    "    a = deque(str(x))\n",
    "    rots = []\n",
    "    for i in range(len(a)):\n",
    "        rots.append(int(''.join(a)))\n",
    "        a.rotate()\n",
    "    return rots\n",
    "\n",
    "def check_number_rotations(x):\n",
    "    rots = rotations(x)\n",
    "    for rotation in rots:\n",
    "        if isprime(rotation):\n",
    "            pass\n",
    "        else:\n",
    "            return False\n",
    "            break\n",
    "    return True"
   ]
  },
  {
   "cell_type": "code",
   "execution_count": 153,
   "metadata": {},
   "outputs": [
    {
     "data": {
      "text/plain": [
       "55"
      ]
     },
     "execution_count": 153,
     "metadata": {},
     "output_type": "execute_result"
    }
   ],
   "source": [
    "c_primes=[]\n",
    "for i in range(2,int(10e6)):\n",
    "    if isprime(i):\n",
    "        if check_number_rotations(i):\n",
    "            c_primes.append(i)\n",
    "\n",
    "len(c_primes)\n"
   ]
  },
  {
   "cell_type": "code",
   "execution_count": 155,
   "metadata": {},
   "outputs": [
    {
     "name": "stdout",
     "output_type": "stream",
     "text": [
      "55\n"
     ]
    }
   ],
   "source": [
    "from sympy import isprime\n",
    "\n",
    "print(len(\n",
    "    [\n",
    "        None\n",
    "        for n in range(10**6)\n",
    "        for N in [str(n)]\n",
    "        if all(\n",
    "            isprime(\n",
    "                int(\n",
    "                    N[-j:] + N[:-j]\n",
    "                )\n",
    "            )\n",
    "            for j in range(len(N))\n",
    "        )\n",
    "    ]\n",
    "))"
   ]
  },
  {
   "cell_type": "code",
   "execution_count": null,
   "metadata": {},
   "outputs": [],
   "source": []
  }
 ],
 "metadata": {
  "kernelspec": {
   "display_name": "torchenv",
   "language": "python",
   "name": "python3"
  },
  "language_info": {
   "codemirror_mode": {
    "name": "ipython",
    "version": 3
   },
   "file_extension": ".py",
   "mimetype": "text/x-python",
   "name": "python",
   "nbconvert_exporter": "python",
   "pygments_lexer": "ipython3",
   "version": "3.12.1"
  }
 },
 "nbformat": 4,
 "nbformat_minor": 2
}
