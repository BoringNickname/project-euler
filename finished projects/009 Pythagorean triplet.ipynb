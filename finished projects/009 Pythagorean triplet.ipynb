{
 "cells": [
  {
   "cell_type": "code",
   "execution_count": 5,
   "metadata": {},
   "outputs": [],
   "source": [
    "import numpy as np"
   ]
  },
  {
   "cell_type": "code",
   "execution_count": 63,
   "metadata": {},
   "outputs": [],
   "source": [
    "def pyth(a, b, c):\n",
    "    if a + b + c == 1000:\n",
    "        return True"
   ]
  },
  {
   "cell_type": "code",
   "execution_count": 60,
   "metadata": {},
   "outputs": [],
   "source": [
    "def test(a, b):\n",
    "    c = np.sqrt(a**2 + b**2)\n",
    "    if c % 1 == 0 :\n",
    "        return pyth(a, b, c)"
   ]
  },
  {
   "cell_type": "code",
   "execution_count": 74,
   "metadata": {},
   "outputs": [
    {
     "name": "stdout",
     "output_type": "stream",
     "text": [
      "1000.0\n",
      "200 375 425.0\n"
     ]
    }
   ],
   "source": [
    "a = 1\n",
    "while a < 1000:\n",
    "    b = a + 1\n",
    "    while b < 1000:\n",
    "        if test(a,b) == True:\n",
    "            c = np.sqrt(a**2 + b**2)\n",
    "            \n",
    "            print(a + b + c)\n",
    "            print(a, b, c)\n",
    "            break\n",
    "#         print(b, 'its me, b')\n",
    "        b += 1\n",
    "    a += 1"
   ]
  },
  {
   "cell_type": "code",
   "execution_count": 75,
   "metadata": {},
   "outputs": [
    {
     "name": "stdout",
     "output_type": "stream",
     "text": [
      "425000000.0\n"
     ]
    }
   ],
   "source": [
    "print(a*b*c)"
   ]
  },
  {
   "cell_type": "code",
   "execution_count": null,
   "metadata": {},
   "outputs": [],
   "source": []
  }
 ],
 "metadata": {
  "kernelspec": {
   "display_name": "Python 3",
   "language": "python",
   "name": "python3"
  },
  "language_info": {
   "codemirror_mode": {
    "name": "ipython",
    "version": 3
   },
   "file_extension": ".py",
   "mimetype": "text/x-python",
   "name": "python",
   "nbconvert_exporter": "python",
   "pygments_lexer": "ipython3",
   "version": "3.4.9"
  }
 },
 "nbformat": 4,
 "nbformat_minor": 2
}
