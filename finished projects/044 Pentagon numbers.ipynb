{
 "cells": [
  {
   "cell_type": "code",
   "execution_count": 3,
   "metadata": {},
   "outputs": [],
   "source": [
    "import numpy as np\n",
    "import math"
   ]
  },
  {
   "cell_type": "code",
   "execution_count": 50,
   "metadata": {},
   "outputs": [],
   "source": [
    "def check(P):\n",
    "    return ((np.sqrt(24*P+1)+1)/6).is_integer()\n",
    "def gen(x):\n",
    "    return x*(x*3-1)/2"
   ]
  },
  {
   "cell_type": "code",
   "execution_count": 52,
   "metadata": {},
   "outputs": [
    {
     "name": "stdout",
     "output_type": "stream",
     "text": [
      "i= 2167 j= 1020\n",
      "D= 5482660.0\n",
      "Wall time: 6.05 s\n"
     ]
    }
   ],
   "source": [
    "%%time\n",
    "test_range = 10000\n",
    "sum_pos = []\n",
    "\n",
    "found = False\n",
    "i = 2\n",
    "while found == False:\n",
    "    P1 = gen(i)\n",
    "    for j in range(1,i):\n",
    "        P2 = gen(j)\n",
    "        if check(abs(P1+P2)) == True and check(abs(P1-P2)) ==True:\n",
    "            print('i=',i, 'j=',j)\n",
    "            print('D=', abs(P1-P2))\n",
    "            found = True\n",
    "    i +=1"
   ]
  },
  {
   "cell_type": "code",
   "execution_count": null,
   "metadata": {},
   "outputs": [],
   "source": []
  }
 ],
 "metadata": {
  "kernelspec": {
   "display_name": "Python 3",
   "language": "python",
   "name": "python3"
  },
  "language_info": {
   "codemirror_mode": {
    "name": "ipython",
    "version": 3
   },
   "file_extension": ".py",
   "mimetype": "text/x-python",
   "name": "python",
   "nbconvert_exporter": "python",
   "pygments_lexer": "ipython3",
   "version": "3.8.5"
  }
 },
 "nbformat": 4,
 "nbformat_minor": 4
}
