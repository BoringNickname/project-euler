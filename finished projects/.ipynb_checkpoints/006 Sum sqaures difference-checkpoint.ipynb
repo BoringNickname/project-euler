{
 "cells": [
  {
   "cell_type": "code",
   "execution_count": 2,
   "metadata": {},
   "outputs": [],
   "source": [
    "import numpy as np"
   ]
  },
  {
   "cell_type": "code",
   "execution_count": 20,
   "metadata": {},
   "outputs": [
    {
     "name": "stdout",
     "output_type": "stream",
     "text": [
      "338350.0\n",
      "25502500.0\n",
      "25164150.0\n"
     ]
    }
   ],
   "source": [
    "hmm = np.linspace(1, 100, 100)\n",
    "ssq = sum(hmm**2)\n",
    "print(ssq)\n",
    "sqsum = sum(hmm)**2\n",
    "print(sqsum)\n",
    "print(sqsum-ssq)"
   ]
  },
  {
   "cell_type": "code",
   "execution_count": null,
   "metadata": {},
   "outputs": [],
   "source": []
  }
 ],
 "metadata": {
  "kernelspec": {
   "display_name": "Python 3",
   "language": "python",
   "name": "python3"
  },
  "language_info": {
   "codemirror_mode": {
    "name": "ipython",
    "version": 3
   },
   "file_extension": ".py",
   "mimetype": "text/x-python",
   "name": "python",
   "nbconvert_exporter": "python",
   "pygments_lexer": "ipython3",
   "version": "3.4.9"
  }
 },
 "nbformat": 4,
 "nbformat_minor": 2
}
