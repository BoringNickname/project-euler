{
 "cells": [
  {
   "cell_type": "code",
   "execution_count": 1,
   "metadata": {},
   "outputs": [],
   "source": [
    "import numpy as np"
   ]
  },
  {
   "cell_type": "code",
   "execution_count": 13,
   "metadata": {},
   "outputs": [
    {
     "name": "stdout",
     "output_type": "stream",
     "text": [
      "found a larger one verticals 34144.0\n",
      "found a larger one verticals 9507960.0\n",
      "found a larger one verticals 18741888.0\n",
      "found a larger one verticals 22275540.0\n",
      "found a larger one verticals 27896715.0\n",
      "found a larger one verticals 34728804.0\n",
      "found a larger one verticals 48477312.0\n",
      "48477312.0\n",
      "found a larger one horizontals 1651104.0\n",
      "found a larger one horizontals 4540536.0\n",
      "found a larger one horizontals 5210170.0\n",
      "found a larger one horizontals 9995020.0\n",
      "found a larger one horizontals 14808780.0\n",
      "found a larger one horizontals 15294960.0\n",
      "found a larger one horizontals 23569344.0\n",
      "found a larger one horizontals 35845044.0\n",
      "found a larger one horizontals 51267216.0\n",
      "51267216.0\n",
      "found a larger one horizontals 279496.0\n",
      "found a larger one horizontals 16194745.0\n",
      "found a larger one horizontals 32719995.0\n",
      "found a larger one horizontals 40304286.0\n",
      "40304286.0\n",
      "found a larger one horizontals 1909600.0\n",
      "found a larger one horizontals 5159640.0\n",
      "found a larger one horizontals 14917952.0\n",
      "found a larger one horizontals 17791488.0\n",
      "found a larger one horizontals 33408837.0\n",
      "found a larger one horizontals 53181414.0\n",
      "found a larger one horizontals 70600674.0\n",
      "70600674.0\n"
     ]
    }
   ],
   "source": [
    "data = np.loadtxt('largestproduct.txt', unpack = True)\n",
    "data = np.array(data)\n",
    "data = data.ravel()\n",
    "\n",
    "\n",
    "# print(data[0])\n",
    "# len(data)\n",
    "\n",
    "\n",
    "i = 0\n",
    "prod = 0        #verticals\n",
    "while i < len(data)-60:\n",
    "    if data[i]*data[i+20]*data[i+40]*data[i+60]> prod:\n",
    "        prod = data[i]*data[i+20]*data[i+40]*data[i+60]\n",
    "        print('found a larger one verticals', prod)\n",
    "    i += 1\n",
    "print(prod)\n",
    "\n",
    "\n",
    "prod = 0  #horizontals\n",
    "i = 0\n",
    "while i < len(data)-4:\n",
    "    if data[i]*data[i+1]*data[i+2]*data[i+3]> prod:\n",
    "        prod = data[i]*data[i+1]*data[i+2]*data[i+3]\n",
    "        print('found a larger one horizontals', prod)\n",
    "    i += 1\n",
    "print(prod)\n",
    "\n",
    "prod = 0 \n",
    "i = 0 #diagonals left to right\n",
    "while i < len(data)-63:\n",
    "    if data[i]*data[i+21]*data[i+42]*data[i+63]> prod:\n",
    "        prod = data[i]*data[i+21]*data[i+42]*data[i+63]\n",
    "        print('found a larger one horizontals', prod)\n",
    "    i += 1\n",
    "print(prod)\n",
    "\n",
    "prod = 0 \n",
    "i = 4 #diagonals right to left\n",
    "while i < len(data)-57:\n",
    "    if data[i]*data[i+19]*data[i+38]*data[i+57]> prod:\n",
    "        prod = data[i]*data[i+19]*data[i+38]*data[i+57]\n",
    "        print('found a larger one horizontals', prod)\n",
    "    i += 1\n",
    "print(prod)"
   ]
  },
  {
   "cell_type": "code",
   "execution_count": null,
   "metadata": {},
   "outputs": [],
   "source": []
  }
 ],
 "metadata": {
  "kernelspec": {
   "display_name": "Python 3",
   "language": "python",
   "name": "python3"
  },
  "language_info": {
   "codemirror_mode": {
    "name": "ipython",
    "version": 3
   },
   "file_extension": ".py",
   "mimetype": "text/x-python",
   "name": "python",
   "nbconvert_exporter": "python",
   "pygments_lexer": "ipython3",
   "version": "3.4.9"
  }
 },
 "nbformat": 4,
 "nbformat_minor": 2
}
