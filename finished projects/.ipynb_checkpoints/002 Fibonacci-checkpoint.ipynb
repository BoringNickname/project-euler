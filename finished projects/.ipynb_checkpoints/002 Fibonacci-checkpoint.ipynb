{
 "cells": [
  {
   "cell_type": "code",
   "execution_count": 1,
   "metadata": {},
   "outputs": [],
   "source": [
    "import numpy as np"
   ]
  },
  {
   "cell_type": "code",
   "execution_count": 38,
   "metadata": {},
   "outputs": [
    {
     "name": "stdout",
     "output_type": "stream",
     "text": [
      "[1, 1, 2, 3, 5, 8, 13, 21, 34, 55, 89, 144, 233, 377, 610, 987, 1597, 2584, 4181, 6765, 10946, 17711, 28657, 46368, 75025, 121393, 196418, 317811, 514229, 832040, 1346269, 2178309, 3524578, 5702887]\n",
      "4613732\n"
     ]
    }
   ],
   "source": [
    "n = []\n",
    "n.append(1)\n",
    "n.append(1)\n",
    "n.append(2)\n",
    "target = 4000000\n",
    "test = 10000\n",
    "i = 2\n",
    "scrap = 0\n",
    "sums = 0\n",
    "while n[i] < target:\n",
    "    scrap = n[i] + n[i-1]\n",
    "    n.append(scrap)\n",
    "    i += 1\n",
    "    if n[i] % 2 == 0:\n",
    "        sums = sums + n[i]\n",
    "print(n)\n",
    "print(sums+2)"
   ]
  },
  {
   "cell_type": "code",
   "execution_count": null,
   "metadata": {},
   "outputs": [],
   "source": []
  }
 ],
 "metadata": {
  "kernelspec": {
   "display_name": "Python 3",
   "language": "python",
   "name": "python3"
  },
  "language_info": {
   "codemirror_mode": {
    "name": "ipython",
    "version": 3
   },
   "file_extension": ".py",
   "mimetype": "text/x-python",
   "name": "python",
   "nbconvert_exporter": "python",
   "pygments_lexer": "ipython3",
   "version": "3.4.9"
  }
 },
 "nbformat": 4,
 "nbformat_minor": 2
}
