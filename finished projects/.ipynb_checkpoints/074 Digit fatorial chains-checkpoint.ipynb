{
 "cells": [
  {
   "cell_type": "code",
   "execution_count": 103,
   "metadata": {},
   "outputs": [],
   "source": [
    "import math\n",
    "import numpy as np \n",
    "import time"
   ]
  },
  {
   "cell_type": "code",
   "execution_count": 93,
   "metadata": {},
   "outputs": [],
   "source": [
    "def splt(n):\n",
    "    a = n\n",
    "    n = str(n)\n",
    "    i = 0\n",
    "    sums = 0\n",
    "    while  i < len(n):\n",
    "        sums += math.factorial((int(n[i])))\n",
    "        i+= 1\n",
    "    return sums"
   ]
  },
  {
   "cell_type": "code",
   "execution_count": 94,
   "metadata": {},
   "outputs": [],
   "source": [
    "def iss(n, item):\n",
    "    if item not in n:\n",
    "         return False\n",
    "    else:\n",
    "        return True"
   ]
  },
  {
   "cell_type": "code",
   "execution_count": 97,
   "metadata": {},
   "outputs": [],
   "source": [
    "def check(n):\n",
    "    a = []\n",
    "    b = False\n",
    "#     print('initial',n)\n",
    "    while b == False:\n",
    "        if iss(a, n) == False:\n",
    "            a.append(n)\n",
    "            n = splt(n)\n",
    "#             print('bingo', n)\n",
    "        else:\n",
    "            b = True\n",
    "    return len(a)\n",
    "#     print('there are', len(a), 'non-repeating items')"
   ]
  },
  {
   "cell_type": "code",
   "execution_count": 106,
   "metadata": {},
   "outputs": [
    {
     "name": "stdout",
     "output_type": "stream",
     "text": [
      "402\n",
      "199.8245108127594\n"
     ]
    }
   ],
   "source": [
    "start = time.time()\n",
    "i = 10\n",
    "bingo =0\n",
    "while i < 1000000:\n",
    "    if check(i) == 60:\n",
    "        bingo += 1\n",
    "    i += 1\n",
    "print(bingo)\n",
    "end = time.time()\n",
    "print(end - start)"
   ]
  },
  {
   "cell_type": "code",
   "execution_count": 96,
   "metadata": {},
   "outputs": [
    {
     "name": "stdout",
     "output_type": "stream",
     "text": [
      "im onto something\n"
     ]
    }
   ],
   "source": [
    "check(89)\n",
    "print('im onto something')"
   ]
  },
  {
   "cell_type": "code",
   "execution_count": 86,
   "metadata": {},
   "outputs": [
    {
     "data": {
      "text/plain": [
       "True"
      ]
     },
     "execution_count": 86,
     "metadata": {},
     "output_type": "execute_result"
    }
   ],
   "source": [
    "n = [1,2,3,4,5]\n",
    "item = 5\n",
    "iss(n, item)"
   ]
  },
  {
   "cell_type": "code",
   "execution_count": null,
   "metadata": {},
   "outputs": [],
   "source": []
  }
 ],
 "metadata": {
  "kernelspec": {
   "display_name": "Python 3",
   "language": "python",
   "name": "python3"
  },
  "language_info": {
   "codemirror_mode": {
    "name": "ipython",
    "version": 3
   },
   "file_extension": ".py",
   "mimetype": "text/x-python",
   "name": "python",
   "nbconvert_exporter": "python",
   "pygments_lexer": "ipython3",
   "version": "3.4.9"
  }
 },
 "nbformat": 4,
 "nbformat_minor": 2
}
