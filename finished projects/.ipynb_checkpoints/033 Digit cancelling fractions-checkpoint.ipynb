{
 "cells": [
  {
   "cell_type": "code",
   "execution_count": 56,
   "metadata": {},
   "outputs": [],
   "source": [
    "def test(a,b):\n",
    "    c = [int(x) for x in list(str(a))]\n",
    "    d = [int(x) for x in list(str(b))]\n",
    "    \n",
    "    if c[1] == 0 and d[1] == 0:\n",
    "        pass\n",
    "    \n",
    "    elif c[0] == d[0]:\n",
    "        res = [a,b, a/b]\n",
    "        del c[0]\n",
    "        del d[0]\n",
    "        if int(c[0])/int(d[0]) == res[2]:\n",
    "            print(c, '/', d, '==', res[0], '/', res[1], '==', res[2])\n",
    "    \n",
    "    elif c[0] == d[1]:\n",
    "        res = [a,b, a/b]\n",
    "        del c[0]\n",
    "        del d[1]\n",
    "        if int(c[0])/int(d[0]) == res[2]:\n",
    "            print(c, '/', d, '==', res[0], '/', res[1], '==', res[2])\n",
    "    \n",
    "    elif c[1] == d[0]:\n",
    "        res = [a,b, a/b]\n",
    "        del c[1]\n",
    "        del d[0]\n",
    "        if int(c[0])/int(d[0]) == res[2]:\n",
    "            print(c, '/', d, '==', res[0], '/', res[1], '==', res[2])\n",
    "        \n",
    "    elif c[1] == d[1]:\n",
    "        res = [a,b, a/b]\n",
    "        del c[1]\n",
    "        del d[1]\n",
    "        if int(c[0])/int(d[0]) == res[2]:\n",
    "            print(c, '/', d, '==', res[0], '/', res[1], '==', res[2])\n",
    "    else:\n",
    "#         print('no bueno')\n",
    "        pass"
   ]
  },
  {
   "cell_type": "code",
   "execution_count": 58,
   "metadata": {},
   "outputs": [
    {
     "name": "stdout",
     "output_type": "stream",
     "text": [
      "Division by zero\n",
      "Division by zero\n",
      "Division by zero\n",
      "Division by zero\n",
      "Division by zero\n",
      "Division by zero\n",
      "Division by zero\n",
      "Division by zero\n",
      "Division by zero\n",
      "Division by zero\n",
      "Division by zero\n",
      "Division by zero\n",
      "Division by zero\n",
      "Division by zero\n",
      "Division by zero\n",
      "[1] / [4] == 16 / 64 == 0.25\n",
      "[2] / [5] == 26 / 65 == 0.4\n",
      "Division by zero\n",
      "Division by zero\n",
      "Division by zero\n",
      "Division by zero\n",
      "Division by zero\n",
      "Division by zero\n",
      "Division by zero\n",
      "Division by zero\n",
      "Division by zero\n",
      "Division by zero\n",
      "Division by zero\n",
      "Division by zero\n",
      "Division by zero\n",
      "Division by zero\n",
      "Division by zero\n",
      "Division by zero\n",
      "Division by zero\n",
      "Division by zero\n",
      "Division by zero\n",
      "Division by zero\n",
      "Division by zero\n",
      "[1] / [5] == 19 / 95 == 0.2\n",
      "[4] / [8] == 49 / 98 == 0.5\n"
     ]
    }
   ],
   "source": [
    "b_list = list(range(10,99))\n",
    "for b in b_list:\n",
    "    for a in list(range(10,b)):\n",
    "#         print(a,b)\n",
    "        try:\n",
    "            test(a,b)\n",
    "        except Exception as e:\n",
    "            print('Division by zero')"
   ]
  },
  {
   "cell_type": "code",
   "execution_count": 60,
   "metadata": {},
   "outputs": [
    {
     "name": "stdout",
     "output_type": "stream",
     "text": [
      "8 / 800\n"
     ]
    }
   ],
   "source": [
    "print(2*4, '/', 4*5*5*8)"
   ]
  },
  {
   "cell_type": "code",
   "execution_count": null,
   "metadata": {},
   "outputs": [],
   "source": []
  }
 ],
 "metadata": {
  "kernelspec": {
   "display_name": "Python 3",
   "language": "python",
   "name": "python3"
  },
  "language_info": {
   "codemirror_mode": {
    "name": "ipython",
    "version": 3
   },
   "file_extension": ".py",
   "mimetype": "text/x-python",
   "name": "python",
   "nbconvert_exporter": "python",
   "pygments_lexer": "ipython3",
   "version": "3.8.5"
  }
 },
 "nbformat": 4,
 "nbformat_minor": 2
}
