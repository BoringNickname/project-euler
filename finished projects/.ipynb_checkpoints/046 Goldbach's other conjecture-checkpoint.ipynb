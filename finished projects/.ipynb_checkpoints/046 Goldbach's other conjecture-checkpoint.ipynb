{
 "cells": [
  {
   "cell_type": "code",
   "execution_count": 1,
   "metadata": {},
   "outputs": [],
   "source": [
    "import numpy as np"
   ]
  },
  {
   "cell_type": "code",
   "execution_count": 69,
   "metadata": {},
   "outputs": [],
   "source": [
    "pm = np.genfromtxt('primesext.txt', delimiter = ',')\n",
    "nats = np.linspace(1, 20000, 20000)\n",
    "comps = [x for x in nats if x not in pm]"
   ]
  },
  {
   "cell_type": "code",
   "execution_count": 70,
   "metadata": {},
   "outputs": [],
   "source": [
    "i = 0\n",
    "oddcomps = []\n",
    "while i < len(comps):\n",
    "    if comps[i] % 2 != 0:\n",
    "        oddcomps.append(comps[i])\n",
    "    i += 1\n",
    "del(oddcomps[0])"
   ]
  },
  {
   "cell_type": "code",
   "execution_count": 86,
   "metadata": {},
   "outputs": [],
   "source": [
    "def check(n):\n",
    "    a = 0\n",
    "    while a < np.sqrt(n):\n",
    "        b = 0\n",
    "        while b < n- 2:\n",
    "            if pm[b]+2*a**2 == n:\n",
    "#                 print(pm[b],'+','2*',a,'**2','=',n)\n",
    "                return True\n",
    "            b += 1\n",
    "        a += 1\n",
    "    return False"
   ]
  },
  {
   "cell_type": "code",
   "execution_count": 87,
   "metadata": {},
   "outputs": [
    {
     "data": {
      "text/plain": [
       "True"
      ]
     },
     "execution_count": 87,
     "metadata": {},
     "output_type": "execute_result"
    }
   ],
   "source": [
    "check(33)"
   ]
  },
  {
   "cell_type": "code",
   "execution_count": 89,
   "metadata": {},
   "outputs": [
    {
     "name": "stdout",
     "output_type": "stream",
     "text": [
      "5777.0\n"
     ]
    }
   ],
   "source": [
    "i = 0\n",
    "a = False\n",
    "while i <= 10000:\n",
    "    if check(oddcomps[i]) == True:\n",
    "        i += 1\n",
    "    else:\n",
    "        print(oddcomps[i])\n",
    "        break"
   ]
  }
 ],
 "metadata": {
  "kernelspec": {
   "display_name": "Python 3",
   "language": "python",
   "name": "python3"
  },
  "language_info": {
   "codemirror_mode": {
    "name": "ipython",
    "version": 3
   },
   "file_extension": ".py",
   "mimetype": "text/x-python",
   "name": "python",
   "nbconvert_exporter": "python",
   "pygments_lexer": "ipython3",
   "version": "3.4.9"
  }
 },
 "nbformat": 4,
 "nbformat_minor": 2
}
