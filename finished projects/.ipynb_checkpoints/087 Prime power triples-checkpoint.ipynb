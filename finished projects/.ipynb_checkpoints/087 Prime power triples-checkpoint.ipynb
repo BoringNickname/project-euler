{
 "cells": [
  {
   "cell_type": "code",
   "execution_count": 1,
   "metadata": {},
   "outputs": [],
   "source": [
    "import numpy as np"
   ]
  },
  {
   "cell_type": "code",
   "execution_count": 26,
   "metadata": {},
   "outputs": [],
   "source": [
    "primes = np.genfromtxt('primes.txt', delimiter = ',')"
   ]
  },
  {
   "cell_type": "code",
   "execution_count": 41,
   "metadata": {},
   "outputs": [
    {
     "name": "stdout",
     "output_type": "stream",
     "text": [
      "1139575\n",
      "1097343\n"
     ]
    }
   ],
   "source": [
    "sets = 0\n",
    "combos = []\n",
    "i = 0\n",
    "target = 50000000\n",
    "a = 0\n",
    "while a < np.sqrt(target):\n",
    "    a = primes[i]\n",
    "#     print(a)\n",
    "    j = 0\n",
    "    b = 0\n",
    "    if a**2 > target:\n",
    "        break\n",
    "    while b < target**0.333:\n",
    "        b = primes[j]\n",
    "        k = 0\n",
    "        c = 0\n",
    "        if a**2+b**3 > target:\n",
    "            break\n",
    "        while c <target**0.25:\n",
    "            c = primes[k]\n",
    "            if a**2+b**3+c**4 < target:\n",
    "                combos.append(a**2+b**3+c**4)\n",
    "#                 break\n",
    "#                 print(a,'^2 + ',b,'^3 + ',c,'^4 +  =',a**2+b**3+c**4)\n",
    "                sets += 1\n",
    "            else:\n",
    "                break\n",
    "            k += 1\n",
    "        j += 1\n",
    "    i += 1\n",
    "\n",
    "print(sets)\n",
    "combos = list(dict.fromkeys(combos))\n",
    "print(len(combos))"
   ]
  },
  {
   "cell_type": "code",
   "execution_count": 46,
   "metadata": {},
   "outputs": [
    {
     "name": "stdout",
     "output_type": "stream",
     "text": [
      "Result {1097343}\n",
      "Solved in {1467} ms\n"
     ]
    }
   ],
   "source": [
    "from math import sqrt, floor\n",
    "import time\n",
    "\n",
    "def is_prime(x):\n",
    "    for i in range(2, floor(sqrt(x))+1):\n",
    "        if x%i == 0: return False\n",
    "    return True\n",
    "\n",
    "t = time.time()\n",
    "A = 50000000\n",
    "\n",
    "primes = []\n",
    "for i in range(2, floor(sqrt(A))+1):\n",
    "    if is_prime(i): primes += [i]\n",
    "\n",
    "results = set()\n",
    "for i in primes:\n",
    "    num_i = i**2\n",
    "    for j in primes:\n",
    "        num_j = num_i + j**3\n",
    "        if num_j >= A:\n",
    "            break\n",
    "        else:\n",
    "            for k in primes:\n",
    "                num = num_j + k**4\n",
    "                if num > A:\n",
    "                    break\n",
    "                else:\n",
    "                    results.add(num)\n",
    "\n",
    "print('Result', {len(results)})\n",
    "print('Solved in', {round((time.time()-t)*1000)},'ms')"
   ]
  },
  {
   "cell_type": "code",
   "execution_count": null,
   "metadata": {},
   "outputs": [],
   "source": []
  }
 ],
 "metadata": {
  "kernelspec": {
   "display_name": "Python 3",
   "language": "python",
   "name": "python3"
  },
  "language_info": {
   "codemirror_mode": {
    "name": "ipython",
    "version": 3
   },
   "file_extension": ".py",
   "mimetype": "text/x-python",
   "name": "python",
   "nbconvert_exporter": "python",
   "pygments_lexer": "ipython3",
   "version": "3.4.9"
  }
 },
 "nbformat": 4,
 "nbformat_minor": 2
}
