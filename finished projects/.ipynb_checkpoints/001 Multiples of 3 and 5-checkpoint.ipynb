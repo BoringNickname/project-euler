{
 "cells": [
  {
   "cell_type": "code",
   "execution_count": 17,
   "metadata": {},
   "outputs": [],
   "source": [
    "import numpy as np\n",
    "import time"
   ]
  },
  {
   "cell_type": "code",
   "execution_count": 36,
   "metadata": {},
   "outputs": [
    {
     "name": "stdout",
     "output_type": "stream",
     "text": [
      "233333166668\n",
      "0.5177664756774902 s\n"
     ]
    }
   ],
   "source": [
    "start_time = time.time()\n",
    "i = 1\n",
    "numbers = 0\n",
    "while i < 1000000:\n",
    "    if i % 3 == 0 or i % 5 == 0:\n",
    "        numbers = numbers + i\n",
    "    i = i + 1\n",
    "print(numbers)\n",
    "print(time.time() - start_time, 's')"
   ]
  },
  {
   "cell_type": "code",
   "execution_count": 37,
   "metadata": {},
   "outputs": [
    {
     "name": "stdout",
     "output_type": "stream",
     "text": [
      "233333166668\n",
      "0.5402836799621582 s\n"
     ]
    }
   ],
   "source": [
    "start_time = time.time()\n",
    "\n",
    "i = 1\n",
    "numbers = []\n",
    "while i < 1000000:\n",
    "    if i % 3 == 0:\n",
    "        numbers.append(i)\n",
    "        i = i + 1\n",
    "    elif i % 5 == 0:\n",
    "        numbers.append(i)\n",
    "        i = i + 1\n",
    "    else:\n",
    "        i += 1\n",
    "print(sum(numbers))\n",
    "print(time.time() - start_time, 's')"
   ]
  },
  {
   "cell_type": "code",
   "execution_count": null,
   "metadata": {},
   "outputs": [],
   "source": []
  }
 ],
 "metadata": {
  "kernelspec": {
   "display_name": "Python 3",
   "language": "python",
   "name": "python3"
  },
  "language_info": {
   "codemirror_mode": {
    "name": "ipython",
    "version": 3
   },
   "file_extension": ".py",
   "mimetype": "text/x-python",
   "name": "python",
   "nbconvert_exporter": "python",
   "pygments_lexer": "ipython3",
   "version": "3.4.10"
  }
 },
 "nbformat": 4,
 "nbformat_minor": 2
}
