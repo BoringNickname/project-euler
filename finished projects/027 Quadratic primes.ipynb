{
 "cells": [
  {
   "cell_type": "code",
   "execution_count": 9,
   "metadata": {},
   "outputs": [],
   "source": [
    "from math import sqrt; from itertools import count, islice\n",
    "\n",
    "def test(n):\n",
    "    return n > 1 and all(n%i for i in islice(count(2), int(sqrt(n)-1)))"
   ]
  },
  {
   "cell_type": "code",
   "execution_count": 14,
   "metadata": {},
   "outputs": [],
   "source": [
    "def gen(n, a, b):\n",
    "    i = 0\n",
    "    while i < n:\n",
    "        print(i**2+a*i+b)\n",
    "        i+=1"
   ]
  },
  {
   "cell_type": "code",
   "execution_count": 26,
   "metadata": {},
   "outputs": [
    {
     "name": "stdout",
     "output_type": "stream",
     "text": [
      "[71, -61, 971]\n"
     ]
    }
   ],
   "source": [
    "a = -1001\n",
    "maxes = 0\n",
    "combo = []\n",
    "while a < 1001:\n",
    "    b = -1001\n",
    "    while b < 1001:\n",
    "        i = True\n",
    "        n = 0\n",
    "        while i == True:\n",
    "            if test(n**2+a*n+b) == True:\n",
    "                n += 1\n",
    "            else:\n",
    "                i = False\n",
    "        if maxes < n:\n",
    "            maxes = n\n",
    "            combo = [n,a,b]\n",
    "        b+=1\n",
    "    a+=1\n",
    "print(combo)        \n",
    "\n"
   ]
  },
  {
   "cell_type": "code",
   "execution_count": 27,
   "metadata": {},
   "outputs": [
    {
     "data": {
      "text/plain": [
       "-59231"
      ]
     },
     "execution_count": 27,
     "metadata": {},
     "output_type": "execute_result"
    }
   ],
   "source": [
    "# gen(combo[0],combo[1],combo[2])\n",
    "combo[1]*combo[2]"
   ]
  },
  {
   "cell_type": "code",
   "execution_count": null,
   "metadata": {},
   "outputs": [],
   "source": []
  }
 ],
 "metadata": {
  "kernelspec": {
   "display_name": "Python 3",
   "language": "python",
   "name": "python3"
  },
  "language_info": {
   "codemirror_mode": {
    "name": "ipython",
    "version": 3
   },
   "file_extension": ".py",
   "mimetype": "text/x-python",
   "name": "python",
   "nbconvert_exporter": "python",
   "pygments_lexer": "ipython3",
   "version": "3.4.10"
  }
 },
 "nbformat": 4,
 "nbformat_minor": 2
}
