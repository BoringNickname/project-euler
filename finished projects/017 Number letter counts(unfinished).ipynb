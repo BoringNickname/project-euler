{
 "cells": [
  {
   "cell_type": "code",
   "execution_count": 144,
   "metadata": {},
   "outputs": [],
   "source": [
    "numbers  = {1:'one' , 2: 'two', 3: 'three', 4: 'four', 5: 'five', 6: 'six',\n",
    "            7:'seven', 8:'eight', 9:'nine', 10:'ten', 11:'eleven',\n",
    "            12:'twelve', 13:'thirteen', 14:'fourteen', 15:'fifteen',\n",
    "            16:'sixteen', 17:'seventeen', 18:'eighteen', 19:'nineteen',\n",
    "            20:'twenty', 30:'thirty', 40:'forty', 50:'fifty', 60:'sixty',\n",
    "            70:'seventy', 80:'eighty', 90:'ninety', 100:'hundred',\n",
    "            1000:'thousand'}"
   ]
  },
  {
   "cell_type": "code",
   "execution_count": 145,
   "metadata": {},
   "outputs": [],
   "source": [
    "def parts(number):\n",
    "    thousands, remainder = int(number/1000), number%1000\n",
    "    hundreds, remainder = int(remainder/100), remainder%100\n",
    "    if remainder < 20:\n",
    "        teens = remainder\n",
    "        return [thousands, hundreds, 0,0,teens]\n",
    "    else:\n",
    "        teens = 0\n",
    "    tens, remainder = int(remainder/10)*10, remainder%10\n",
    "    singles, remainder = int(remainder/1), remainder%1\n",
    "    \n",
    "    return [thousands, hundreds, tens, singles, teens]"
   ]
  },
  {
   "cell_type": "code",
   "execution_count": 161,
   "metadata": {},
   "outputs": [],
   "source": [
    "def spell(num):\n",
    "    arr = parts(num)\n",
    "    spelling = ''\n",
    "    if arr[0] != 0:\n",
    "#         print(numbers[arr[0]], 'thousand')\n",
    "        spelling += numbers[arr[0]]+'thousand'\n",
    "    if arr[1] != 0: #check hundreds\n",
    "#         print(numbers[arr[1]], 'hundred')\n",
    "        spelling+= numbers[arr[1]]+'hundred'\n",
    "        if arr[-1] != 0: #check *teens\n",
    "#             print('and',numbers[arr[-1]])\n",
    "            spelling += 'and'+numbers[arr[-1]]\n",
    "        else:\n",
    "            if arr[2] != 0: #check tens\n",
    "#                 print('and', numbers[arr[2]])\n",
    "                spelling += 'and'+numbers[arr[2]]\n",
    "                if arr[3] != 0: #check singles\n",
    "#                     print(numbers[arr[3]])\n",
    "                    spelling+=numbers[arr[3]]\n",
    "            else:\n",
    "                if arr[3] != 0:\n",
    "#                     print(numbers[arr[3]])\n",
    "                    spelling+= numbers[arr[3]]\n",
    "    else:\n",
    "        if arr[-1] != 0: #check *teens\n",
    "#             print(numbers[arr[-1]])\n",
    "            spelling += numbers[arr[-1]]\n",
    "        else:\n",
    "            if arr[2] != 0: #check tens\n",
    "#                 print(numbers[arr[2]])\n",
    "                spelling += numbers[arr[2]]\n",
    "                if arr[3] != 0: #check singles\n",
    "#                     print(numbers[arr[3]])\n",
    "                    spelling+=numbers[arr[3]]\n",
    "            else:\n",
    "                if arr[3] != 0:\n",
    "#                     print(numbers[arr[3]])\n",
    "                    spelling+= numbers[arr[3]]\n",
    "#     print(spelling)\n",
    "    return spelling"
   ]
  },
  {
   "cell_type": "code",
   "execution_count": 162,
   "metadata": {},
   "outputs": [
    {
     "data": {
      "text/plain": [
       "21124"
      ]
     },
     "execution_count": 162,
     "metadata": {},
     "output_type": "execute_result"
    }
   ],
   "source": [
    "lettersum = ''\n",
    "for i in range(1001):\n",
    "    lettersum+=spell(i)\n",
    "len(lettersum)"
   ]
  },
  {
   "cell_type": "code",
   "execution_count": 149,
   "metadata": {},
   "outputs": [
    {
     "name": "stdout",
     "output_type": "stream",
     "text": [
      "onehundredandfifteen\n"
     ]
    },
    {
     "data": {
      "text/plain": [
       "20"
      ]
     },
     "execution_count": 149,
     "metadata": {},
     "output_type": "execute_result"
    }
   ],
   "source": [
    "len(spell(115))"
   ]
  },
  {
   "cell_type": "code",
   "execution_count": null,
   "metadata": {},
   "outputs": [],
   "source": []
  }
 ],
 "metadata": {
  "kernelspec": {
   "display_name": "Python 3",
   "language": "python",
   "name": "python3"
  },
  "language_info": {
   "codemirror_mode": {
    "name": "ipython",
    "version": 3
   },
   "file_extension": ".py",
   "mimetype": "text/x-python",
   "name": "python",
   "nbconvert_exporter": "python",
   "pygments_lexer": "ipython3",
   "version": "3.8.5"
  }
 },
 "nbformat": 4,
 "nbformat_minor": 2
}
