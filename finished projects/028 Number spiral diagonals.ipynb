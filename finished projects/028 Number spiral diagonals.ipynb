{
 "cells": [
  {
   "cell_type": "code",
   "execution_count": 9,
   "metadata": {},
   "outputs": [
    {
     "name": "stdout",
     "output_type": "stream",
     "text": [
      "669171001\n"
     ]
    }
   ],
   "source": [
    "import numpy as np\n",
    "target = 1001\n",
    "step = 2\n",
    "dummy = 1\n",
    "i = 0\n",
    "tot = 1\n",
    "while i < int(target/2):\n",
    "    tot = tot + (step+dummy)\n",
    "    dummy = step+dummy\n",
    "#     print(dummy)\n",
    "    if np.sqrt(dummy) == (step+1):\n",
    "        i += 1\n",
    "        step += 2\n",
    "print(tot)"
   ]
  },
  {
   "cell_type": "code",
   "execution_count": null,
   "metadata": {},
   "outputs": [],
   "source": []
  }
 ],
 "metadata": {
  "kernelspec": {
   "display_name": "Python 3",
   "language": "python",
   "name": "python3"
  },
  "language_info": {
   "codemirror_mode": {
    "name": "ipython",
    "version": 3
   },
   "file_extension": ".py",
   "mimetype": "text/x-python",
   "name": "python",
   "nbconvert_exporter": "python",
   "pygments_lexer": "ipython3",
   "version": "3.4.10"
  }
 },
 "nbformat": 4,
 "nbformat_minor": 2
}
