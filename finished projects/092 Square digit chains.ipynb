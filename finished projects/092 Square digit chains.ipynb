{
 "cells": [
  {
   "cell_type": "code",
   "execution_count": 1,
   "metadata": {},
   "outputs": [],
   "source": [
    "import numpy as np"
   ]
  },
  {
   "cell_type": "code",
   "execution_count": 18,
   "metadata": {},
   "outputs": [],
   "source": [
    "def su(n):\n",
    "    s = 0\n",
    "    while n:\n",
    "        s += (n % 10)**2\n",
    "        n //= 10\n",
    "    return s"
   ]
  },
  {
   "cell_type": "code",
   "execution_count": 49,
   "metadata": {},
   "outputs": [],
   "source": [
    "def which(num):\n",
    "    while num:\n",
    "        if num == su(num):\n",
    "            break\n",
    "        if num == 89:\n",
    "            break\n",
    "        else:\n",
    "#             print(num)\n",
    "            num = su(num)\n",
    "    return num"
   ]
  },
  {
   "cell_type": "code",
   "execution_count": 59,
   "metadata": {},
   "outputs": [
    {
     "name": "stdout",
     "output_type": "stream",
     "text": [
      "8581146\n",
      "1418853\n"
     ]
    }
   ],
   "source": [
    "bingo = []\n",
    "nobueno = []\n",
    "i = 0\n",
    "while i < 10000000:\n",
    "    a = which(i)\n",
    "    if a == 89:\n",
    "        bingo.append(i)\n",
    "    if a == 1:\n",
    "        nobueno.append(i)\n",
    "    i += 1\n",
    "# print(bingo)\n",
    "print(len(bingo))\n",
    "print(len(nobueno))\n",
    "# print((nobueno))"
   ]
  },
  {
   "cell_type": "code",
   "execution_count": 60,
   "metadata": {},
   "outputs": [
    {
     "name": "stdout",
     "output_type": "stream",
     "text": [
      "this toook me fkng ages\n"
     ]
    }
   ],
   "source": [
    "which(5)\n",
    "print('this toook me fkng ages')"
   ]
  },
  {
   "cell_type": "code",
   "execution_count": null,
   "metadata": {},
   "outputs": [],
   "source": []
  }
 ],
 "metadata": {
  "kernelspec": {
   "display_name": "Python 3",
   "language": "python",
   "name": "python3"
  },
  "language_info": {
   "codemirror_mode": {
    "name": "ipython",
    "version": 3
   },
   "file_extension": ".py",
   "mimetype": "text/x-python",
   "name": "python",
   "nbconvert_exporter": "python",
   "pygments_lexer": "ipython3",
   "version": "3.4.9"
  }
 },
 "nbformat": 4,
 "nbformat_minor": 2
}
