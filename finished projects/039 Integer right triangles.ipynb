{
 "cells": [
  {
   "cell_type": "code",
   "execution_count": 37,
   "metadata": {},
   "outputs": [],
   "source": [
    "import numpy as np\n",
    "import time\n",
    "import matplotlib.pyplot as plt\n",
    "from scipy.stats import linregress as lrg\n",
    "from scipy.optimize import curve_fit"
   ]
  },
  {
   "cell_type": "code",
   "execution_count": 12,
   "metadata": {},
   "outputs": [],
   "source": [
    "def test(a,b,p):\n",
    "    if np.sqrt(a**2+b**2)+a+b == p:\n",
    "        return True\n",
    "    else:\n",
    "        return False"
   ]
  },
  {
   "cell_type": "code",
   "execution_count": 19,
   "metadata": {},
   "outputs": [],
   "source": [
    "#my solution\n",
    "def efficiency(order):\n",
    "    \n",
    "    start_time = time.time()\n",
    "    target = order\n",
    "    print('target')\n",
    "    p = 12\n",
    "    best = 0\n",
    "    bestpvalue = 0\n",
    "    while p < target:\n",
    "        matches = 0\n",
    "        a = 1\n",
    "        while a < p/2:\n",
    "            b = a+1\n",
    "            while b < p-2*a:\n",
    "#                 print(a,b,p, 'a,b,p')\n",
    "                if test(a,b,p) == True:\n",
    "#                     print('pass')\n",
    "#                     print(a,b,p,'a,b,p, double pass')\n",
    "                    matches +=1\n",
    "                b = b+1\n",
    "            a+=1\n",
    "        p+= 1\n",
    "        if matches > best:\n",
    "    #         print('mathes=',  matches)\n",
    "    #         print(a,b,p,'a,b,p')\n",
    "            best = matches\n",
    "            bestpvalue = p-1\n",
    "#     print(best, bestpvalue)\n",
    "\n",
    "    print(time.time()-start_time, 's')\n",
    "    return time.time()-start_time"
   ]
  },
  {
   "cell_type": "code",
   "execution_count": 31,
   "metadata": {},
   "outputs": [
    {
     "name": "stdout",
     "output_type": "stream",
     "text": [
      "target\n",
      "0.06061863899230957 s\n",
      "pass\n",
      "target\n",
      "0.2868533134460449 s\n",
      "pass\n",
      "target\n",
      "0.8927404880523682 s\n",
      "pass\n",
      "target\n",
      "2.1361489295959473 s\n",
      "pass\n",
      "target\n",
      "4.2026355266571045 s\n",
      "pass\n",
      "target\n",
      "7.3220953941345215 s\n",
      "pass\n",
      "target\n",
      "11.697567462921143 s\n",
      "pass\n",
      "target\n",
      "17.583133220672607 s\n",
      "pass\n",
      "target\n",
      "25.105626106262207 s\n",
      "pass\n",
      "target\n",
      "34.62254095077515 s\n",
      "pass\n",
      "target\n",
      "45.94557857513428 s\n",
      "pass\n",
      "target\n",
      "59.83710765838623 s\n",
      "pass\n",
      "target\n",
      "76.28603792190552 s\n",
      "pass\n",
      "target\n",
      "97.3347418308258 s\n",
      "pass\n",
      "target\n",
      "119.47028517723083 s\n",
      "pass\n",
      "target\n",
      "144.7070174217224 s\n",
      "pass\n",
      "target\n",
      "175.3524293899536 s\n",
      "pass\n",
      "target\n",
      "206.18760180473328 s\n",
      "pass\n",
      "target\n",
      "242.6750626564026 s\n",
      "pass\n",
      "target\n",
      "284.7016592025757 s\n",
      "pass\n"
     ]
    },
    {
     "data": {
      "image/png": "[encoded data removed]",
      "text/plain": [
       "<matplotlib.figure.Figure at 0x7f3855c39080>"
      ]
     },
     "metadata": {},
     "output_type": "display_data"
    }
   ],
   "source": [
    "order  = np.linspace(50,1000,20)\n",
    "# order\n",
    "# print(test[2])\n",
    "i = 0\n",
    "times = []\n",
    "while i < len(order):\n",
    "    times.append(efficiency(order[i]))\n",
    "    print('pass')\n",
    "    i +=1\n",
    "    \n",
    "plt.figure(figsize=(16,10))\n",
    "plt.plot(order, times)\n",
    "plt.xlabel('p value')\n",
    "plt.ylabel('time taken, s')\n",
    "plt.show()"
   ]
  },
  {
   "cell_type": "code",
   "execution_count": 41,
   "metadata": {},
   "outputs": [
    {
     "name": "stdout",
     "output_type": "stream",
     "text": [
      "25.94029899040858 min\n"
     ]
    },
    {
     "ename": "NameError",
     "evalue": "name 'x' is not defined",
     "output_type": "error",
     "traceback": [
      "\u001b[0;31m---------------------------------------------------------------------------\u001b[0m",
      "\u001b[0;31mNameError\u001b[0m                                 Traceback (most recent call last)",
      "\u001b[0;32m<ipython-input-41-555d32fcbec8>\u001b[0m in \u001b[0;36m<module>\u001b[0;34m()\u001b[0m\n\u001b[1;32m      1\u001b[0m \u001b[0mprint\u001b[0m\u001b[0;34m(\u001b[0m\u001b[0msum\u001b[0m\u001b[0;34m(\u001b[0m\u001b[0mtimes\u001b[0m\u001b[0;34m)\u001b[0m\u001b[0;34m/\u001b[0m\u001b[0;36m60\u001b[0m\u001b[0;34m,\u001b[0m \u001b[0;34m'min'\u001b[0m\u001b[0;34m)\u001b[0m\u001b[0;34m\u001b[0m\u001b[0m\n\u001b[0;32m----> 2\u001b[0;31m \u001b[0ma\u001b[0m \u001b[0;34m=\u001b[0m \u001b[0mcurve_fit\u001b[0m\u001b[0;34m(\u001b[0m\u001b[0ma\u001b[0m\u001b[0;34m*\u001b[0m\u001b[0mnp\u001b[0m\u001b[0;34m.\u001b[0m\u001b[0me\u001b[0m\u001b[0;34m**\u001b[0m\u001b[0mx\u001b[0m\u001b[0;34m,\u001b[0m \u001b[0morder\u001b[0m\u001b[0;34m,\u001b[0m \u001b[0mtimes\u001b[0m\u001b[0;34m,\u001b[0m \u001b[0mp0\u001b[0m\u001b[0;34m=\u001b[0m\u001b[0;34m[\u001b[0m\u001b[0;36m1\u001b[0m\u001b[0;34m,\u001b[0m\u001b[0;36m1\u001b[0m\u001b[0;34m]\u001b[0m\u001b[0;34m)\u001b[0m\u001b[0;34m\u001b[0m\u001b[0m\n\u001b[0m\u001b[1;32m      3\u001b[0m \u001b[0ma\u001b[0m\u001b[0;34m\u001b[0m\u001b[0m\n\u001b[1;32m      4\u001b[0m \u001b[0;31m# a1 = curve_fit(xsq, rngs1, volts1,p0 = [1,1,1])[0]\u001b[0m\u001b[0;34m\u001b[0m\u001b[0;34m\u001b[0m\u001b[0m\n",
      "\u001b[0;31mNameError\u001b[0m: name 'x' is not defined"
     ]
    }
   ],
   "source": [
    "print(sum(times)/60, 'min')\n",
    "a = curve_fit(a*np.e**x, order, times, p0=[1,1])\n",
    "a\n",
    "# a1 = curve_fit(xsq, rngs1, volts1,p0 = [1,1,1])[0]"
   ]
  },
  {
   "cell_type": "code",
   "execution_count": null,
   "metadata": {},
   "outputs": [],
   "source": [
    "# c = np.sqrt(a**2+b**2)\n",
    "start_time = time.time()\n",
    "\n",
    "p = 12\n",
    "best = 0\n",
    "bestpvalue = 0\n",
    "while p < 1000:\n",
    "    match  = 0\n",
    "\n",
    "    b = 1\n",
    "    while b < p/2:\n",
    "        a = (p**2-2*p*b)/(2*p-2*b)\n",
    "        if a%1 == 0:\n",
    "            match +=1\n",
    "        b +=1\n",
    "    if best < match:\n",
    "        best = match\n",
    "        bestpvalue = p\n",
    "    p +=1\n",
    "    \n",
    "print(best, bestpvalue)\n",
    "print(time.time()-start_time, 's')\n",
    "#smarter solution"
   ]
  },
  {
   "cell_type": "code",
   "execution_count": null,
   "metadata": {},
   "outputs": [],
   "source": [
    "p = 720720\n",
    "b = 1\n",
    "while b < p/2:\n",
    "    a = (p**2-2*p*b)/(2*p-2*b)\n",
    "    c = np.sqrt(a**2+b**2)\n",
    "    if a%1 == 0:\n",
    "        print(a,b,c,p, 'a,b,c,p')\n",
    "    b +=1"
   ]
  },
  {
   "cell_type": "code",
   "execution_count": null,
   "metadata": {},
   "outputs": [],
   "source": [
    "from math import floor, sqrt\n",
    "from collections import Counter\n",
    "\n",
    "\n",
    "def main():\n",
    "    \"\"\"Solve Euler Problem 39.\n",
    "\n",
    "    See https://en.wikipedia.org/wiki/Pythagorean_triple\n",
    "\n",
    "    Every integer triplet (k, m, n) generates a Pythagorean triple:\n",
    "\n",
    "        a = k*(m**2 - n**2)\n",
    "        b = 2*k*m*n\n",
    "        c = k*(m**2 + n**2)\n",
    "\n",
    "    All values with perimiter p <= 1000 must have c <= 500.\"\"\"\n",
    "    max_m = floor(sqrt(1000)) + 1\n",
    "    triples = set()\n",
    "    for m in range(1, max_m):\n",
    "        for n in range(1, m):\n",
    "            k = 1\n",
    "            a = k*(m**2 - n**2)\n",
    "            b = 2*k*m*n\n",
    "            c = k*(m**2 + n**2)\n",
    "            while a + b + c <= 10000000:\n",
    "                triples.add(frozenset([a, b, c]))\n",
    "                k += 1\n",
    "                a = k*a // (k-1)\n",
    "                b = k*b // (k-1)\n",
    "                c = k*c // (k-1)\n",
    "\n",
    "    perimeters = Counter(sum(t) for t in triples)\n",
    "    print(perimeters.most_common(1))\n",
    "\n",
    "\n",
    "if __name__ == \"__main__\":\n",
    "    main()"
   ]
  },
  {
   "cell_type": "code",
   "execution_count": null,
   "metadata": {},
   "outputs": [],
   "source": []
  }
 ],
 "metadata": {
  "kernelspec": {
   "display_name": "Python 3",
   "language": "python",
   "name": "python3"
  },
  "language_info": {
   "codemirror_mode": {
    "name": "ipython",
    "version": 3
   },
   "file_extension": ".py",
   "mimetype": "text/x-python",
   "name": "python",
   "nbconvert_exporter": "python",
   "pygments_lexer": "ipython3",
   "version": "3.4.10"
  }
 },
 "nbformat": 4,
 "nbformat_minor": 2
}
