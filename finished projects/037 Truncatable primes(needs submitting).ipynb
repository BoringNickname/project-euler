{
 "cells": [
  {
   "cell_type": "code",
   "execution_count": 27,
   "metadata": {},
   "outputs": [],
   "source": [
    "import numpy as np\n",
    "from math import sqrt; from itertools import count, islice"
   ]
  },
  {
   "cell_type": "code",
   "execution_count": 114,
   "metadata": {},
   "outputs": [],
   "source": [
    "pm = np.genfromtxt('primesext.txt', delimiter = ',')\n",
    "pm = list(pm)\n",
    "del(pm[0])\n",
    "del(pm[0])\n",
    "del(pm[0])\n",
    "del(pm[0])"
   ]
  },
  {
   "cell_type": "code",
   "execution_count": 28,
   "metadata": {},
   "outputs": [],
   "source": [
    "def tp(n):\n",
    "    return n > 1 and all(n%i for i in islice(count(2), int(sqrt(n)-1)))"
   ]
  },
  {
   "cell_type": "code",
   "execution_count": 20,
   "metadata": {},
   "outputs": [],
   "source": [
    "def magic(numList):\n",
    "    s = ''.join(map(str, numList))\n",
    "    return int(s)"
   ]
  },
  {
   "cell_type": "code",
   "execution_count": 54,
   "metadata": {},
   "outputs": [],
   "source": [
    "def ltr(n):\n",
    "    a = [int(d) for d in str(n)]\n",
    "    del(a[0])\n",
    "    return magic(a)"
   ]
  },
  {
   "cell_type": "code",
   "execution_count": 59,
   "metadata": {},
   "outputs": [],
   "source": [
    "def rtl(n):\n",
    "    a = [int(d) for d in str(n)]\n",
    "    del(a[len(a)-1])\n",
    "    return magic(a)"
   ]
  },
  {
   "cell_type": "code",
   "execution_count": 142,
   "metadata": {},
   "outputs": [],
   "source": [
    "def check(n):\n",
    "    b = n\n",
    "    a = n\n",
    "    i = 0\n",
    "    while i < len(str(n)):\n",
    "        if tp(ltr(a))== True and tp(rtl(b)) == True:\n",
    "            a = ltr(a)\n",
    "            b = rtl(b)\n",
    "#             print('ayy', a,b )\n",
    "#     print('y u no work', a, b)\n",
    "        else:\n",
    "#             print(n, ltr(n), 'no scx')\n",
    "            break\n",
    "        if a == 2 or a == 3 or a == 5 or a == 7:\n",
    "            return True\n",
    "            break\n",
    "        if b == 2 or b == 3 or b == 5 or b == 7:\n",
    "            return True\n",
    "            break\n",
    "        i += 1\n",
    "        if i == len(str(n)):\n",
    "            return True"
   ]
  },
  {
   "cell_type": "code",
   "execution_count": 148,
   "metadata": {},
   "outputs": [
    {
     "name": "stdout",
     "output_type": "stream",
     "text": [
      "[23.0, 37.0, 53.0, 73.0, 313.0, 317.0, 373.0, 797.0, 3137.0, 3797.0, 739397.0]\n"
     ]
    }
   ],
   "source": [
    "i = 0\n",
    "gotem = []\n",
    "while i < 78490:\n",
    "    if check(int(pm[i])) == True:\n",
    "        gotem.append(pm[i])\n",
    "    i += 1\n",
    "print(gotem)"
   ]
  },
  {
   "cell_type": "code",
   "execution_count": 150,
   "metadata": {},
   "outputs": [
    {
     "data": {
      "text/plain": [
       "748317"
      ]
     },
     "execution_count": 150,
     "metadata": {},
     "output_type": "execute_result"
    }
   ],
   "source": [
    "int(sum(gotem))"
   ]
  },
  {
   "cell_type": "code",
   "execution_count": 151,
   "metadata": {},
   "outputs": [
    {
     "name": "stdout",
     "output_type": "stream",
     "text": [
      "748317\n"
     ]
    }
   ],
   "source": [
    "import numpy as np\n",
    "from math import sqrt; from itertools import count, islice\n",
    "\n",
    "pm = np.genfromtxt('primesext.txt', delimiter = ',')\n",
    "pm = list(pm)\n",
    "del(pm[0])\n",
    "del(pm[0])\n",
    "del(pm[0])\n",
    "del(pm[0])\n",
    "\n",
    "def tp(n):\n",
    "    return n > 1 and all(n%i for i in islice(count(2), int(sqrt(n)-1)))\n",
    "\n",
    "def magic(numList):\n",
    "    s = ''.join(map(str, numList))\n",
    "    return int(s)\n",
    "\n",
    "def ltr(n):\n",
    "    a = [int(d) for d in str(n)]\n",
    "    del(a[0])\n",
    "    return magic(a)\n",
    "\n",
    "def rtl(n):\n",
    "    a = [int(d) for d in str(n)]\n",
    "    del(a[len(a)-1])\n",
    "    return magic(a)\n",
    "\n",
    "def check(n):\n",
    "    b = n\n",
    "    a = n\n",
    "    i = 0\n",
    "    while i < len(str(n)):\n",
    "        if tp(ltr(a))== True and tp(rtl(b)) == True:\n",
    "            a = ltr(a)\n",
    "            b = rtl(b)\n",
    "#             print('ayy', a,b )\n",
    "#     print('y u no work', a, b)\n",
    "        else:\n",
    "#             print(n, ltr(n), 'no scx')\n",
    "            break\n",
    "        if a == 2 or a == 3 or a == 5 or a == 7:\n",
    "            return True\n",
    "            break\n",
    "        if b == 2 or b == 3 or b == 5 or b == 7:\n",
    "            return True\n",
    "            break\n",
    "        i += 1\n",
    "        if i == len(str(n)):\n",
    "            return True\n",
    "        \n",
    "i = 0\n",
    "gotem = []\n",
    "while i < 78490:\n",
    "    if check(int(pm[i])) == True:\n",
    "        gotem.append(pm[i])\n",
    "    i += 1\n",
    "# print(gotem)\n",
    "\n",
    "print(int(sum(gotem)))"
   ]
  },
  {
   "cell_type": "code",
   "execution_count": 153,
   "metadata": {},
   "outputs": [
    {
     "name": "stdout",
     "output_type": "stream",
     "text": [
      "[23, 313, 3137, 317, 37, 373, 3797, 53, 73, 739397, 797]\n",
      "748317\n"
     ]
    }
   ],
   "source": [
    "from math import sqrt\n",
    "\n",
    "\n",
    "def is_prime(n):\n",
    "    \"\"\" Checks whether an integer is prime. \"\"\"\n",
    "    if n < 2:\n",
    "        return False\n",
    "\n",
    "    i = 2\n",
    "    while i <= sqrt(n):\n",
    "        if n % i == 0:\n",
    "            return False\n",
    "\n",
    "        i += 1\n",
    "\n",
    "    return True\n",
    "\n",
    "\n",
    "def tp_left_right(n):\n",
    "    \"\"\" Truncates a number left to right and verifies each result is prime. \"\"\"\n",
    "\n",
    "    rem = -1\n",
    "    power = 1\n",
    "    while rem != n:\n",
    "        rem = n % 10**power\n",
    "        if not is_prime(rem):\n",
    "            return False\n",
    "\n",
    "        power += 1\n",
    "\n",
    "    return True\n",
    "\n",
    "\n",
    "def trunc_primes(nums):\n",
    "    \"\"\" Recursive function to find all truncatable primes. \"\"\"\n",
    "\n",
    "    tps = []\n",
    "    for n in nums:\n",
    "        if n < 10 or is_prime(n):\n",
    "            if not n < 10 and tp_left_right(n):\n",
    "                tps.append(n)\n",
    "\n",
    "            # N.B. Terminating digit must not be even.\n",
    "            # N.B. Even if not truncatable left to right, still need to\n",
    "            #      continue.\n",
    "            #      E.G. tp_left_right(379) is False because 9 is not a prime,\n",
    "            #      but tp_left_right(3797) is True.\n",
    "            tps += trunc_primes([n * 10 + x for x in [1, 3, 5, 7, 9]])\n",
    "\n",
    "    return tps\n",
    "\n",
    "# N.B. The starting digit must be a prime number.\n",
    "trunc_ps = trunc_primes([2, 3, 5, 7])\n",
    "print (trunc_ps)\n",
    "print (sum(trunc_ps))"
   ]
  },
  {
   "cell_type": "code",
   "execution_count": null,
   "metadata": {},
   "outputs": [],
   "source": []
  }
 ],
 "metadata": {
  "kernelspec": {
   "display_name": "Python 3",
   "language": "python",
   "name": "python3"
  },
  "language_info": {
   "codemirror_mode": {
    "name": "ipython",
    "version": 3
   },
   "file_extension": ".py",
   "mimetype": "text/x-python",
   "name": "python",
   "nbconvert_exporter": "python",
   "pygments_lexer": "ipython3",
   "version": "3.4.9"
  }
 },
 "nbformat": 4,
 "nbformat_minor": 2
}
