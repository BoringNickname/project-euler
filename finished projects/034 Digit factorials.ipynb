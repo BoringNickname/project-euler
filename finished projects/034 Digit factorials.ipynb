{
 "cells": [
  {
   "cell_type": "code",
   "execution_count": 1,
   "metadata": {},
   "outputs": [],
   "source": [
    "import math\n",
    "import numpy as np "
   ]
  },
  {
   "cell_type": "code",
   "execution_count": 2,
   "metadata": {},
   "outputs": [],
   "source": [
    "def splt(n):\n",
    "    a = n\n",
    "    n = str(n)\n",
    "    i = 0\n",
    "    sums = 0\n",
    "    while  i < len(n):\n",
    "        if sums > a:\n",
    "#             print('fail', a)\n",
    "            break\n",
    "        sums += math.factorial((int(n[i])))\n",
    "        i+= 1\n",
    "    return sums"
   ]
  },
  {
   "cell_type": "code",
   "execution_count": 12,
   "metadata": {},
   "outputs": [
    {
     "name": "stdout",
     "output_type": "stream",
     "text": [
      "40730\n"
     ]
    }
   ],
   "source": [
    "i = 10\n",
    "bingo = []\n",
    "while i < 2540160:\n",
    "#     print(splt(i), i)\n",
    "    if splt(i) == i:\n",
    "        bingo.append(i)\n",
    "    i += 1\n",
    "print(sum(bingo))"
   ]
  },
  {
   "cell_type": "code",
   "execution_count": null,
   "metadata": {},
   "outputs": [],
   "source": []
  }
 ],
 "metadata": {
  "kernelspec": {
   "display_name": "Python 3",
   "language": "python",
   "name": "python3"
  },
  "language_info": {
   "codemirror_mode": {
    "name": "ipython",
    "version": 3
   },
   "file_extension": ".py",
   "mimetype": "text/x-python",
   "name": "python",
   "nbconvert_exporter": "python",
   "pygments_lexer": "ipython3",
   "version": "3.4.9"
  }
 },
 "nbformat": 4,
 "nbformat_minor": 2
}
