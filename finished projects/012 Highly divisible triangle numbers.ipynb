{
 "cells": [
  {
   "cell_type": "code",
   "execution_count": 72,
   "metadata": {},
   "outputs": [],
   "source": [
    "from functools import reduce\n",
    "\n",
    "def factors(triangle):    \n",
    "    return set(reduce(list.__add__, \n",
    "                ([i, triangle//i] for i in range(1, int(triangle**0.5) + 1) if triangle % i == 0)))"
   ]
  },
  {
   "cell_type": "code",
   "execution_count": 73,
   "metadata": {},
   "outputs": [
    {
     "name": "stdout",
     "output_type": "stream",
     "text": [
      "76576500\n",
      "0\n"
     ]
    }
   ],
   "source": [
    "# trying to combine them\n",
    "target = 500\n",
    "i = 1\n",
    "triangle = 0\n",
    "a = 0\n",
    "while a < target or len(divs) == target:\n",
    "    triangle = triangle + i\n",
    "    a = len(factors(triangle))\n",
    "    i += 1\n",
    "print(triangle)"
   ]
  }
 ],
 "metadata": {
  "kernelspec": {
   "display_name": "Python 3",
   "language": "python",
   "name": "python3"
  },
  "language_info": {
   "codemirror_mode": {
    "name": "ipython",
    "version": 3
   },
   "file_extension": ".py",
   "mimetype": "text/x-python",
   "name": "python",
   "nbconvert_exporter": "python",
   "pygments_lexer": "ipython3",
   "version": "3.4.9"
  }
 },
 "nbformat": 4,
 "nbformat_minor": 2
}
