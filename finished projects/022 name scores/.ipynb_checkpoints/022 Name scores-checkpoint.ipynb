{
 "cells": [
  {
   "cell_type": "code",
   "execution_count": 9,
   "metadata": {},
   "outputs": [
    {
     "data": {
      "text/plain": [
       "871198282"
      ]
     },
     "execution_count": 9,
     "metadata": {},
     "output_type": "execute_result"
    }
   ],
   "source": [
    "import numpy as np\n",
    "\n",
    "names = []\n",
    "with open('names.txt','r') as f:\n",
    "    for line in f:\n",
    "        for word in line.split():\n",
    "            names.append(word)\n",
    "\n",
    "import string\n",
    "values = dict()\n",
    "for index, letter in enumerate(string.ascii_uppercase):\n",
    "    values[letter] = index + 1\n",
    "    \n",
    "def value(a):\n",
    "    i = 0\n",
    "    sums = 0 \n",
    "    while i < len(a):\n",
    "        sums += values[a[i]]\n",
    "        i += 1\n",
    "    return sums\n",
    "\n",
    "names = sorted(names)\n",
    "\n",
    "i = 0\n",
    "tot = 0\n",
    "while i < len(names):\n",
    "    tot += value(names[i])*(i+1)\n",
    "    i += 1\n",
    "tot"
   ]
  },
  {
   "cell_type": "code",
   "execution_count": null,
   "metadata": {},
   "outputs": [],
   "source": []
  }
 ],
 "metadata": {
  "kernelspec": {
   "display_name": "Python 3",
   "language": "python",
   "name": "python3"
  },
  "language_info": {
   "codemirror_mode": {
    "name": "ipython",
    "version": 3
   },
   "file_extension": ".py",
   "mimetype": "text/x-python",
   "name": "python",
   "nbconvert_exporter": "python",
   "pygments_lexer": "ipython3",
   "version": "3.7.6"
  }
 },
 "nbformat": 4,
 "nbformat_minor": 2
}
