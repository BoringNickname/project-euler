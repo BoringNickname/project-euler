{
 "cells": [
  {
   "cell_type": "code",
   "execution_count": 87,
   "metadata": {},
   "outputs": [],
   "source": [
    "def check(a,b):\n",
    "    num = str(a**b)\n",
    "    i = 0\n",
    "    sums = 0\n",
    "    while  i < len(num):\n",
    "        sums = sums + int(num[i])\n",
    "        i += 1\n",
    "    return sums"
   ]
  },
  {
   "cell_type": "code",
   "execution_count": 88,
   "metadata": {},
   "outputs": [
    {
     "name": "stdout",
     "output_type": "stream",
     "text": [
      "3848960788934848611927795802824596789608451156087366034658627953530148126008534258032267383768627487094610968554286692697374726725853195657679460590239636893953692985541958490801973870359499 972\n"
     ]
    }
   ],
   "source": [
    "tots = []\n",
    "pows = []\n",
    "a = 1\n",
    "while a <= 100:\n",
    "    b = 1\n",
    "    while b <= 100:\n",
    "        tot = check(a,b)\n",
    "        tots.append(check(a,b))\n",
    "        pows.append(a**b)\n",
    "#         print('pow', a**b, 'tot', tot)\n",
    "        b += 1\n",
    "    a += 1\n",
    "print(pows[tots.index(max(tots))], max(tots))"
   ]
  },
  {
   "cell_type": "code",
   "execution_count": null,
   "metadata": {},
   "outputs": [],
   "source": []
  }
 ],
 "metadata": {
  "kernelspec": {
   "display_name": "Python 3",
   "language": "python",
   "name": "python3"
  },
  "language_info": {
   "codemirror_mode": {
    "name": "ipython",
    "version": 3
   },
   "file_extension": ".py",
   "mimetype": "text/x-python",
   "name": "python",
   "nbconvert_exporter": "python",
   "pygments_lexer": "ipython3",
   "version": "3.4.9"
  }
 },
 "nbformat": 4,
 "nbformat_minor": 2
}
