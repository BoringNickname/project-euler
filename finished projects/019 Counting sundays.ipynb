{
 "cells": [
  {
   "cell_type": "code",
   "execution_count": 47,
   "metadata": {},
   "outputs": [
    {
     "name": "stdout",
     "output_type": "stream",
     "text": [
      "171\n"
     ]
    }
   ],
   "source": [
    "days = [31,28,31,30,31,30,31,31,30,31,30,31]\n",
    "leap_days = [31,29,31,30,31,30,31,31,30,31,30,31]\n",
    "\n",
    "remainder = 1\n",
    "\n",
    "counter = 0\n",
    "for year in range(1901,2001): #counting years and a century divisble by 400\n",
    "    if year%400==0:\n",
    "        mdays = leap_days\n",
    "    elif year%100==0: #or just a century\n",
    "        mdays = days\n",
    "    elif year%4==0: #or simply a leap year\n",
    "        mdays = leap_days\n",
    "    \n",
    "    for month in range(0,12): #counting months\n",
    "        remainder = (remainder+mdays[month])%7 #carry the remaining days in to the next month\n",
    "        if remainder == 6:\n",
    "            counter+=1\n",
    "            \n",
    "print(counter)"
   ]
  },
  {
   "cell_type": "code",
   "execution_count": null,
   "metadata": {},
   "outputs": [],
   "source": []
  }
 ],
 "metadata": {
  "kernelspec": {
   "display_name": "Python 3",
   "language": "python",
   "name": "python3"
  },
  "language_info": {
   "codemirror_mode": {
    "name": "ipython",
    "version": 3
   },
   "file_extension": ".py",
   "mimetype": "text/x-python",
   "name": "python",
   "nbconvert_exporter": "python",
   "pygments_lexer": "ipython3",
   "version": "3.12.1"
  }
 },
 "nbformat": 4,
 "nbformat_minor": 4
}
