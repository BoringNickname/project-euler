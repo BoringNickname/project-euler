{
 "cells": [
  {
   "cell_type": "code",
   "execution_count": 2,
   "metadata": {},
   "outputs": [],
   "source": [
    "import numpy as np\n",
    "import time"
   ]
  },
  {
   "cell_type": "code",
   "execution_count": 21,
   "metadata": {},
   "outputs": [
    {
     "name": "stdout",
     "output_type": "stream",
     "text": [
      "154030760585064\n",
      "0.0016057491302490234 s\n"
     ]
    }
   ],
   "source": [
    "start_time = time.time()\n",
    "\n",
    "n = [1,1,2]\n",
    "target = 4000000\n",
    "i = 2\n",
    "scrap = 0\n",
    "sums = 0\n",
    "while i < 70:\n",
    "    scrap = n[i] + n[i-1]\n",
    "    n.append(scrap)\n",
    "#     print(n[i])\n",
    "    i += 1\n",
    "    if n[i] % 2 == 0:\n",
    "        sums = sums + n[i]\n",
    "print(sums+2)\n",
    "print(time.time() - start_time, 's')"
   ]
  },
  {
   "cell_type": "code",
   "execution_count": 30,
   "metadata": {},
   "outputs": [
    {
     "data": {
      "text/plain": [
       "190392490709135"
      ]
     },
     "execution_count": 30,
     "metadata": {},
     "output_type": "execute_result"
    }
   ],
   "source": [
    "i = 2\n",
    "n = 70\n",
    "a = [1,1,2]\n",
    "while i < n-1:\n",
    "    scrap = a[i]+a[i-1]\n",
    "    a.append(scrap)\n",
    "    i +=1\n",
    "a[i]"
   ]
  },
  {
   "cell_type": "code",
   "execution_count": null,
   "metadata": {},
   "outputs": [],
   "source": []
  }
 ],
 "metadata": {
  "kernelspec": {
   "display_name": "Python 3",
   "language": "python",
   "name": "python3"
  },
  "language_info": {
   "codemirror_mode": {
    "name": "ipython",
    "version": 3
   },
   "file_extension": ".py",
   "mimetype": "text/x-python",
   "name": "python",
   "nbconvert_exporter": "python",
   "pygments_lexer": "ipython3",
   "version": "3.4.10"
  }
 },
 "nbformat": 4,
 "nbformat_minor": 2
}
