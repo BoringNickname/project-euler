{
 "cells": [
  {
   "cell_type": "code",
   "execution_count": 1,
   "metadata": {},
   "outputs": [],
   "source": [
    "from sympy.ntheory import isprime\n",
    "import itertools"
   ]
  },
  {
   "cell_type": "code",
   "execution_count": 2,
   "metadata": {},
   "outputs": [
    {
     "name": "stdout",
     "output_type": "stream",
     "text": [
      "7652413\n"
     ]
    }
   ],
   "source": [
    "n='1'\n",
    "max_prime=0 \n",
    "\n",
    "for i in range(int(n[-1])+1,10):\n",
    "    n+=str(i) #create an ever longer string\n",
    "    perms = list(itertools.permutations(list(n))) #create all permutations of digits\n",
    "    P_prime=[] #collect pandigital primes\n",
    "    for perm in perms: #go through all permutations\n",
    "        num = int(''.join(perm)) #create an int from list of strings\n",
    "        if isprime(num): #check for primality\n",
    "            P_prime.append(num)\n",
    "    if len(P_prime)>0: #max doesnt't work if list is empty\n",
    "        if max_prime<max(P_prime):\n",
    "            max_prime=max(P_prime) #reassign max prime if a bigger one is found\n",
    "\n",
    "print(max_prime)"
   ]
  },
  {
   "cell_type": "code",
   "execution_count": null,
   "metadata": {},
   "outputs": [],
   "source": []
  }
 ],
 "metadata": {
  "kernelspec": {
   "display_name": "Python 3",
   "language": "python",
   "name": "python3"
  },
  "language_info": {
   "codemirror_mode": {
    "name": "ipython",
    "version": 3
   },
   "file_extension": ".py",
   "mimetype": "text/x-python",
   "name": "python",
   "nbconvert_exporter": "python",
   "pygments_lexer": "ipython3",
   "version": "3.12.1"
  }
 },
 "nbformat": 4,
 "nbformat_minor": 2
}
