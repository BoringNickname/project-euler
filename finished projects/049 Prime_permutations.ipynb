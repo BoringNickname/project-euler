{
 "cells": [
  {
   "cell_type": "code",
   "execution_count": 20,
   "id": "backed-rubber",
   "metadata": {},
   "outputs": [
    {
     "name": "stdout",
     "output_type": "stream",
     "text": [
      "bingo! 1487, 4817, 8147, the answer is 148748178147\n",
      "bingo! 2969, 6299, 9629, the answer is 296962999629\n"
     ]
    }
   ],
   "source": [
    "from sympy.ntheory import isprime\n",
    "\n",
    "for prime in range(1000,10000):\n",
    "    if isprime(prime) and isprime(prime+3330) and isprime(prime+3330*2) and set(str(prime)) == set(str(prime+3330)) == set(str(prime+3330*2)):\n",
    "       print(f'bingo! {prime}, {prime+3330}, {prime+3330*2}, the answer is {str(prime)+str(prime+3330)+str(prime+3330*2)}')"
   ]
  },
  {
   "cell_type": "code",
   "execution_count": null,
   "id": "c80e178c",
   "metadata": {},
   "outputs": [],
   "source": []
  }
 ],
 "metadata": {
  "kernelspec": {
   "display_name": "Python 3",
   "language": "python",
   "name": "python3"
  },
  "language_info": {
   "codemirror_mode": {
    "name": "ipython",
    "version": 3
   },
   "file_extension": ".py",
   "mimetype": "text/x-python",
   "name": "python",
   "nbconvert_exporter": "python",
   "pygments_lexer": "ipython3",
   "version": "3.12.1"
  }
 },
 "nbformat": 4,
 "nbformat_minor": 5
}
