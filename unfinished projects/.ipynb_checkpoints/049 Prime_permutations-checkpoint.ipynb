{
 "cells": [
  {
   "cell_type": "code",
   "execution_count": 18,
   "id": "southern-extraction",
   "metadata": {},
   "outputs": [],
   "source": [
    "import itertools\n",
    "import numpy as np\n",
    "def erat2( ):\n",
    "    D = {  }\n",
    "    yield 2\n",
    "    for q in itertools.islice(itertools.count(3), 0, None, 2):\n",
    "        p = D.pop(q, None)\n",
    "        if p is None:\n",
    "            D[q*q] = q\n",
    "            yield q\n",
    "        else:\n",
    "            x = p + q\n",
    "            while x in D or not (x&1):\n",
    "                x += p\n",
    "            D[x] = p\n",
    "            \n",
    "def get_primes_erat(n):\n",
    "    return list(itertools.takewhile(lambda p: p<n, erat2()))"
   ]
  },
  {
   "cell_type": "code",
   "execution_count": 29,
   "id": "contrary-person",
   "metadata": {},
   "outputs": [],
   "source": [
    "primes = np.array(get_primes_erat(10e3))\n",
    "primes = primes[primes>10e2]"
   ]
  },
  {
   "cell_type": "code",
   "execution_count": 40,
   "id": "electoral-equation",
   "metadata": {},
   "outputs": [],
   "source": [
    "def is_perm(n1, n2):\n",
    "    return sorted(str(n1)) == sorted(str(n2))\n",
    "\n",
    "from math import sqrt\n",
    "from itertools import count, islice\n",
    "\n",
    "def is_prime(n):\n",
    "    return n > 1 and all(n % i for i in islice(count(2), int(np.sqrt(n)-1)))"
   ]
  },
  {
   "cell_type": "code",
   "execution_count": 39,
   "id": "backed-rubber",
   "metadata": {},
   "outputs": [
    {
     "data": {
      "text/plain": [
       "True"
      ]
     },
     "execution_count": 39,
     "metadata": {},
     "output_type": "execute_result"
    }
   ],
   "source": []
  },
  {
   "cell_type": "code",
   "execution_count": 43,
   "id": "abstract-holmes",
   "metadata": {},
   "outputs": [
    {
     "data": {
      "text/plain": [
       "True"
      ]
     },
     "execution_count": 43,
     "metadata": {},
     "output_type": "execute_result"
    }
   ],
   "source": []
  },
  {
   "cell_type": "code",
   "execution_count": null,
   "id": "unnecessary-electronics",
   "metadata": {},
   "outputs": [],
   "source": []
  }
 ],
 "metadata": {
  "kernelspec": {
   "display_name": "Python 3",
   "language": "python",
   "name": "python3"
  },
  "language_info": {
   "codemirror_mode": {
    "name": "ipython",
    "version": 3
   },
   "file_extension": ".py",
   "mimetype": "text/x-python",
   "name": "python",
   "nbconvert_exporter": "python",
   "pygments_lexer": "ipython3",
   "version": "3.8.5"
  }
 },
 "nbformat": 4,
 "nbformat_minor": 5
}
