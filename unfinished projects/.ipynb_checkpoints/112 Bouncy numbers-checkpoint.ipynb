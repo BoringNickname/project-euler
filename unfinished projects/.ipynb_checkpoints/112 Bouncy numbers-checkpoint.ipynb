{
 "cells": [
  {
   "cell_type": "code",
   "execution_count": 2,
   "metadata": {},
   "outputs": [],
   "source": [
    "import numpy as np"
   ]
  },
  {
   "cell_type": "code",
   "execution_count": 15,
   "metadata": {},
   "outputs": [
    {
     "name": "stdout",
     "output_type": "stream",
     "text": [
      "true\n"
     ]
    }
   ],
   "source": [
    "n = list(str(1325))\n",
    "if n[2] < n[1]:\n",
    "    print('true')\n",
    "else:\n",
    "    print('need int')\n",
    "# galima tikrinti skaicius neverciant ju i int"
   ]
  },
  {
   "cell_type": "code",
   "execution_count": 13,
   "metadata": {},
   "outputs": [],
   "source": [
    "def mac(numList):\n",
    "    s = ''.join(map(str, numList))\n",
    "    return int(s)"
   ]
  },
  {
   "cell_type": "code",
   "execution_count": 20,
   "metadata": {},
   "outputs": [
    {
     "name": "stdout",
     "output_type": "stream",
     "text": [
      "success, because 2 < 3  and 2 < 5\n"
     ]
    }
   ],
   "source": [
    "i = 2\n",
    "bouncy = []\n",
    "if n[i] > n[i-1] and n[i] > n[i+1]:\n",
    "    bouncy.append(mac(n))\n",
    "    print('success, because',n[i],'>',n[i-1],' and', n[i], '>',n[i+1])\n",
    "elif n[i] < n[i-1] and n[i] < n[i+1]:\n",
    "    print('success, because',n[i],'<',n[i-1],' and', n[i], '<',n[i+1])"
   ]
  },
  {
   "cell_type": "code",
   "execution_count": 14,
   "metadata": {},
   "outputs": [
    {
     "data": {
      "text/plain": [
       "123"
      ]
     },
     "execution_count": 14,
     "metadata": {},
     "output_type": "execute_result"
    }
   ],
   "source": [
    "n = [1,2,3]\n",
    "mac(n)\n",
    "fuck this shit ahhhhh\n"
   ]
  },
  {
   "cell_type": "code",
   "execution_count": null,
   "metadata": {},
   "outputs": [],
   "source": []
  }
 ],
 "metadata": {
  "kernelspec": {
   "display_name": "Python 3",
   "language": "python",
   "name": "python3"
  },
  "language_info": {
   "codemirror_mode": {
    "name": "ipython",
    "version": 3
   },
   "file_extension": ".py",
   "mimetype": "text/x-python",
   "name": "python",
   "nbconvert_exporter": "python",
   "pygments_lexer": "ipython3",
   "version": "3.4.9"
  }
 },
 "nbformat": 4,
 "nbformat_minor": 2
}
