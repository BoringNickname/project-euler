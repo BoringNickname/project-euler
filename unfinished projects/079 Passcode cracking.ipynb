{
 "cells": [
  {
   "cell_type": "code",
   "execution_count": 2,
   "metadata": {},
   "outputs": [],
   "source": [
    "a = \"\"\"319\n",
    "680\n",
    "180\n",
    "690\n",
    "129\n",
    "620\n",
    "762\n",
    "689\n",
    "762\n",
    "318\n",
    "368\n",
    "710\n",
    "720\n",
    "710\n",
    "629\n",
    "168\n",
    "160\n",
    "689\n",
    "716\n",
    "731\n",
    "736\n",
    "729\n",
    "316\n",
    "729\n",
    "729\n",
    "710\n",
    "769\n",
    "290\n",
    "719\n",
    "680\n",
    "318\n",
    "389\n",
    "162\n",
    "289\n",
    "162\n",
    "718\n",
    "729\n",
    "319\n",
    "790\n",
    "680\n",
    "890\n",
    "362\n",
    "319\n",
    "760\n",
    "316\n",
    "729\n",
    "380\n",
    "319\n",
    "728\n",
    "716\"\"\""
   ]
  },
  {
   "cell_type": "code",
   "execution_count": 3,
   "metadata": {},
   "outputs": [],
   "source": [
    "a = a.replace(\"\\n\", \" \")\n",
    "a = a.replace(' ', ', ')\n",
    "a = [int(s) for s in a.split(',')]"
   ]
  },
  {
   "cell_type": "code",
   "execution_count": 5,
   "metadata": {},
   "outputs": [
    {
     "data": {
      "text/plain": [
       "50"
      ]
     },
     "execution_count": 5,
     "metadata": {},
     "output_type": "execute_result"
    }
   ],
   "source": []
  },
  {
   "cell_type": "code",
   "execution_count": null,
   "metadata": {},
   "outputs": [],
   "source": []
  }
 ],
 "metadata": {
  "kernelspec": {
   "display_name": "Python 3",
   "language": "python",
   "name": "python3"
  },
  "language_info": {
   "codemirror_mode": {
    "name": "ipython",
    "version": 3
   },
   "file_extension": ".py",
   "mimetype": "text/x-python",
   "name": "python",
   "nbconvert_exporter": "python",
   "pygments_lexer": "ipython3",
   "version": "3.4.10"
  }
 },
 "nbformat": 4,
 "nbformat_minor": 2
}
