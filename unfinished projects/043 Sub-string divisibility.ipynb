{
 "cells": [
  {
   "cell_type": "code",
   "execution_count": 13,
   "metadata": {},
   "outputs": [],
   "source": [
    "import itertools\n",
    "n = [0,1,2,3,4,5,6,7,8,9]\n",
    "perms = list(itertools.permutations(n))\n",
    "n = 9*8*7*6*5*4*3*2*1\n",
    "newlist = perms[n:]\n",
    "print(newlist)\n",
    "#so that's our full list of (sensible) permutations"
   ]
  },
  {
   "cell_type": "code",
   "execution_count": 41,
   "metadata": {},
   "outputs": [],
   "source": [
    "def numeric(n, lst):\n",
    "    return lst[n]*100+lst[n+1]*10+lst[n+2]    "
   ]
  },
  {
   "cell_type": "code",
   "execution_count": 47,
   "metadata": {},
   "outputs": [
    {
     "name": "stdout",
     "output_type": "stream",
     "text": [
      "[1, 0, 2, 3, 4, 5, 6, 7, 8, 9]\n",
      "23\n",
      "234\n",
      "345\n",
      "456\n",
      "567\n",
      "678\n",
      "789\n",
      "[1, 0, 2, 3, 4, 5, 6, 7, 9, 8]\n",
      "23\n",
      "234\n",
      "345\n",
      "456\n",
      "567\n",
      "679\n",
      "798\n",
      "[1, 0, 2, 3, 4, 5, 6, 8, 7, 9]\n",
      "23\n",
      "234\n",
      "345\n",
      "456\n",
      "568\n",
      "687\n",
      "879\n",
      "[1, 0, 2, 3, 4, 5, 6, 8, 9, 7]\n",
      "23\n",
      "234\n",
      "345\n",
      "456\n",
      "568\n",
      "689\n",
      "897\n",
      "[1, 0, 2, 3, 4, 5, 6, 9, 7, 8]\n",
      "23\n",
      "234\n",
      "345\n",
      "456\n",
      "569\n",
      "697\n",
      "978\n",
      "[1, 0, 2, 3, 4, 5, 6, 9, 8, 7]\n",
      "23\n",
      "234\n",
      "345\n",
      "456\n",
      "569\n",
      "698\n",
      "987\n",
      "[1, 0, 2, 3, 4, 5, 7, 6, 8, 9]\n",
      "23\n",
      "234\n",
      "345\n",
      "457\n",
      "576\n",
      "768\n",
      "689\n",
      "[1, 0, 2, 3, 4, 5, 7, 6, 9, 8]\n",
      "23\n",
      "234\n",
      "345\n",
      "457\n",
      "576\n",
      "769\n",
      "698\n",
      "[1, 0, 2, 3, 4, 5, 7, 8, 6, 9]\n",
      "23\n",
      "234\n",
      "345\n",
      "457\n",
      "578\n",
      "786\n",
      "869\n",
      "[1, 0, 2, 3, 4, 5, 7, 8, 9, 6]\n",
      "23\n",
      "234\n",
      "345\n",
      "457\n",
      "578\n",
      "789\n",
      "896\n"
     ]
    }
   ],
   "source": [
    "i = 0\n",
    "while i < 10:\n",
    "    lst = list(newlist[i])\n",
    "    print(lst)\n",
    "    n = 1\n",
    "    while n < 8:\n",
    "        a = numeric(n,lst)\n",
    "        print(a)\n",
    "        n +=1\n",
    "    i +=1"
   ]
  },
  {
   "cell_type": "code",
   "execution_count": 18,
   "metadata": {},
   "outputs": [
    {
     "data": {
      "text/plain": [
       "[1, 2, 3, 4]"
      ]
     },
     "execution_count": 18,
     "metadata": {},
     "output_type": "execute_result"
    }
   ],
   "source": [
    "num = 1234\n",
    "lst = [int(i) for i in str(num)]\n",
    "lst"
   ]
  },
  {
   "cell_type": "code",
   "execution_count": 22,
   "metadata": {},
   "outputs": [
    {
     "data": {
      "text/plain": [
       "[1, 0, 2, 3, 4, 5, 6, 7, 8, 9]"
      ]
     },
     "execution_count": 22,
     "metadata": {},
     "output_type": "execute_result"
    }
   ],
   "source": [
    "list(newlist[0])"
   ]
  },
  {
   "cell_type": "code",
   "execution_count": 26,
   "metadata": {},
   "outputs": [
    {
     "ename": "TypeError",
     "evalue": "'int' object is not callable",
     "output_type": "error",
     "traceback": [
      "\u001b[0;31m---------------------------------------------------------------------------\u001b[0m",
      "\u001b[0;31mTypeError\u001b[0m                                 Traceback (most recent call last)",
      "\u001b[0;32m<ipython-input-26-c7f35ccca127>\u001b[0m in \u001b[0;36m<module>\u001b[0;34m()\u001b[0m\n\u001b[0;32m----> 1\u001b[0;31m \u001b[0mnum\u001b[0m\u001b[0;34m(\u001b[0m\u001b[0;36m1\u001b[0m\u001b[0;34m,\u001b[0m \u001b[0;34m[\u001b[0m\u001b[0;36m1\u001b[0m\u001b[0;34m,\u001b[0m\u001b[0;36m2\u001b[0m\u001b[0;34m,\u001b[0m\u001b[0;36m3\u001b[0m\u001b[0;34m,\u001b[0m\u001b[0;36m4\u001b[0m\u001b[0;34m]\u001b[0m\u001b[0;34m)\u001b[0m\u001b[0;34m\u001b[0m\u001b[0m\n\u001b[0m",
      "\u001b[0;31mTypeError\u001b[0m: 'int' object is not callable"
     ]
    }
   ],
   "source": [
    "num(1, [1,2,3,4])"
   ]
  },
  {
   "cell_type": "code",
   "execution_count": 38,
   "metadata": {},
   "outputs": [
    {
     "name": "stdout",
     "output_type": "stream",
     "text": [
      "(1, 0, 2, 3, 4, 5, 6, 8, 7, 9)\n"
     ]
    },
    {
     "data": {
      "text/plain": [
       "879"
      ]
     },
     "execution_count": 38,
     "metadata": {},
     "output_type": "execute_result"
    }
   ],
   "source": [
    "n = 7\n",
    "lst = newlist[2]\n",
    "print(newlist[2])\n",
    "lst[n]*100+lst[n+1]*10+lst[n+2]"
   ]
  },
  {
   "cell_type": "code",
   "execution_count": 42,
   "metadata": {},
   "outputs": [
    {
     "data": {
      "text/plain": [
       "879"
      ]
     },
     "execution_count": 42,
     "metadata": {},
     "output_type": "execute_result"
    }
   ],
   "source": [
    "numeric(n, newlist[2])"
   ]
  },
  {
   "cell_type": "code",
   "execution_count": null,
   "metadata": {},
   "outputs": [],
   "source": []
  }
 ],
 "metadata": {
  "kernelspec": {
   "display_name": "Python 3",
   "language": "python",
   "name": "python3"
  },
  "language_info": {
   "codemirror_mode": {
    "name": "ipython",
    "version": 3
   },
   "file_extension": ".py",
   "mimetype": "text/x-python",
   "name": "python",
   "nbconvert_exporter": "python",
   "pygments_lexer": "ipython3",
   "version": "3.4.10"
  }
 },
 "nbformat": 4,
 "nbformat_minor": 2
}
