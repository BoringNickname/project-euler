{
 "cells": [
  {
   "cell_type": "code",
   "execution_count": 9,
   "metadata": {},
   "outputs": [
    {
     "name": "stdout",
     "output_type": "stream",
     "text": [
      "0.785397663397423\n"
     ]
    }
   ],
   "source": [
    "num = 1000000\n",
    "test = 7\n",
    "i = 1\n",
    "sums = 0\n",
    "alt = -1\n",
    "while i <= num:\n",
    "    alt = alt * -1\n",
    "    sums = sums + 1/(i*alt)\n",
    "#     print(sums, 'alt', alt, 'i', i, 1/(i*alt))\n",
    "    i += 2\n",
    "print(sums)"
   ]
  },
  {
   "cell_type": "code",
   "execution_count": null,
   "metadata": {},
   "outputs": [],
   "source": []
  }
 ],
 "metadata": {
  "kernelspec": {
   "display_name": "Python 3",
   "language": "python",
   "name": "python3"
  },
  "language_info": {
   "codemirror_mode": {
    "name": "ipython",
    "version": 3
   },
   "file_extension": ".py",
   "mimetype": "text/x-python",
   "name": "python",
   "nbconvert_exporter": "python",
   "pygments_lexer": "ipython3",
   "version": "3.4.9"
  }
 },
 "nbformat": 4,
 "nbformat_minor": 2
}
